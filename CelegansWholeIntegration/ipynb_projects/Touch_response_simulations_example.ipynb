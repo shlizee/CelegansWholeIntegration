{
 "cells": [
  {
   "cell_type": "code",
   "execution_count": null,
   "id": "6e9aad8e",
   "metadata": {},
   "outputs": [],
   "source": [
    "# This line allows you to display matplotlib plots within the Jupyter Notebook\n",
    "%matplotlib inline\n",
    "\n",
    "# Import External packages \n",
    "import os\n",
    "import numpy as np\n",
    "import matplotlib.pyplot as plt\n",
    "\n",
    "# Configure the working directory (Important: This should be set to home directory of 'dynworm' folder)\n",
    "default_dir = os.path.dirname(os.getcwd())\n",
    "os.chdir(default_dir)\n",
    "\n",
    "# Import Main module\n",
    "import dynworm as dw"
   ]
  },
  {
   "cell_type": "markdown",
   "id": "7f022c82",
   "metadata": {},
   "source": [
    "## Setting up the connectome data"
   ]
  },
  {
   "cell_type": "code",
   "execution_count": null,
   "id": "87656ceb",
   "metadata": {},
   "outputs": [],
   "source": [
    "# Your function here that takes 2D square array as an input and outputs a binary array\n",
    "# The function should convert all non-zero elements to 1\n",
    "\n",
    "# YOUR CODE HERE"
   ]
  },
  {
   "cell_type": "code",
   "execution_count": null,
   "id": "3ac80fa0",
   "metadata": {},
   "outputs": [],
   "source": [
    "# These are the vanilla connectome data\n",
    "\n",
    "vanilla_gap_connectome = dw.neural_params.Gg_Static.copy()\n",
    "vanilla_synaptic_connectome = dw.neural_params.Gs_Static.copy()"
   ]
  },
  {
   "cell_type": "code",
   "execution_count": null,
   "id": "554b9b76",
   "metadata": {},
   "outputs": [],
   "source": [
    "# Use your function to create binary connectomes for each of gap/synaptic"
   ]
  },
  {
   "cell_type": "code",
   "execution_count": null,
   "id": "4bad6732",
   "metadata": {},
   "outputs": [],
   "source": [
    "# We can plot the heatmap of the connectome using the pcolor\n",
    "\n",
    "fig = plt.figure(figsize=(10, 10))\n",
    "plt.pcolor(vanilla_gap_connectome, cmap ='greys', vmin = 0, vmax = 15) # See matplotlib.pcolor documentation page for detail\n",
    "plt.ylim(279, 0)\n",
    "plt.colorbar()"
   ]
  },
  {
   "cell_type": "markdown",
   "id": "0dd9607f",
   "metadata": {},
   "source": [
    "## Setting up the simulations"
   ]
  },
  {
   "cell_type": "code",
   "execution_count": null,
   "id": "6e14ec72",
   "metadata": {},
   "outputs": [],
   "source": [
    "modified_connectomes = {\"gap\": #binary gap connectome here,\n",
    "                        \"syn\": #binary synaptic connectome here,\n",
    "                        \"directionality\": dw.neural_params.EMat_mask}\n",
    "\n",
    "# \"directionality\" is a 279 x 279 matrix that defines whether the neurons/synapses are excitatory or inhibitory\n",
    "# We aren't changing this so just use the default (dw.neural_params.EMat_mask) in dynworm.nerual_params module"
   ]
  },
  {
   "cell_type": "code",
   "execution_count": null,
   "id": "bc0c7e6f",
   "metadata": {},
   "outputs": [],
   "source": [
    "dw.network_sim.initialize_params_neural() # Initialize neural parameters\n",
    "\n",
    "dw.network_sim.initialize_connectivity() # Initialize the connectomes (plug in modified_connectomes above if using binary)\n",
    "\n",
    "dw.body_sim.initialize_params_body() # Initialize the body parameters"
   ]
  },
  {
   "cell_type": "code",
   "execution_count": null,
   "id": "b4407c90",
   "metadata": {},
   "outputs": [],
   "source": [
    "# We aren't removing any neurons from the system so initialize with all ones (i.e. TRUE for all neurons)\n",
    "\n",
    "ablation_mask = np.ones(dw.network_sim.params_obj_neural['N'], dtype = 'bool')"
   ]
  },
  {
   "cell_type": "markdown",
   "id": "ca8e323b",
   "metadata": {},
   "source": [
    "## Locomotion scenarios (Pick one cell to run from below)\n",
    "#### These simulations use the function called \"run_network_fdb\" which allows our digital worm to move autunomously without having to constantly apply stimulus to its neurons.\n",
    "#### Biologically, this is called a 'proprioceptive feedback', where the nervous system has a 'memory' of approximate locations of the animal's body to autonomously coordinate movement. Our brain also use this when we try walk or go down the stairs with our eyes closed. i.e. we can make these coordinated movements without visual stimuli.\n",
    "#### We can discuss more about this concept later but for now let's focus on how these movements differ when we use vanilla vs binary neural connectomes "
   ]
  },
  {
   "cell_type": "code",
   "execution_count": null,
   "id": "62104353",
   "metadata": {},
   "outputs": [],
   "source": [
    "# Gentle posterior touch (Forward crawling via gnetle touch on its tail)\n",
    "# Triggered by injecting impulse stimulus into PLML, PLMR sensory neurons\n",
    "\n",
    "# Load the dynamic stimuli profile (1400, 279)\n",
    "# Each column of input_mat describes the time dependent stimulus into i-th neuron for 14 seconds\n",
    "input_mat = np.load('saved_data/touch_response_stimulus_profiles/input_mat_gentle_post_touch.npy')\n",
    "\n",
    "result_dict_network = dw.network_sim.run_network_fdb(input_mat, ablation_mask=ablation_mask,\n",
    "                                            fdb_init = 1.18, t_delay = 0.6)\n",
    "\n",
    "result_dict_body = dw.body_sim.solve_bodymodel(result_dict_network = result_dict_network) \n",
    "\n",
    "x = result_dict_body['x']\n",
    "y = result_dict_body['y']"
   ]
  },
  {
   "cell_type": "code",
   "execution_count": null,
   "id": "862ffa21",
   "metadata": {},
   "outputs": [],
   "source": [
    "# Harsh posterior touch (Forward crawling via harsh touch on its tail)\n",
    "# Triggered by injecting impulse stimulus into PVD, PDE sensory neurons\n",
    "\n",
    "input_mat = np.load('saved_data/touch_response_stimulus_profiles/input_mat_harsh_post_touch.npy')\n",
    "\n",
    "result_dict_network = dw.network_sim.run_network_fdb(input_mat, ablation_mask=ablation_mask,\n",
    "                                            fdb_init = 1.2, t_delay = 0.54)\n",
    "\n",
    "result_dict_body = dw.body_sim.solve_bodymodel(result_dict_network = result_dict_network) \n",
    "\n",
    "x = result_dict_body['x']\n",
    "y = result_dict_body['y']"
   ]
  },
  {
   "cell_type": "code",
   "execution_count": null,
   "id": "0afaa9dd",
   "metadata": {},
   "outputs": [],
   "source": [
    "# Gentle Anterior touch (Backward crawling via gentle touch on its tail)\n",
    "# Triggered by injecting impulse stimulus into ALM, AVM sensory neurons\n",
    "\n",
    "input_mat = np.load('saved_data/touch_response_stimulus_profiles/input_mat_gentle_ant_touch.npy')\n",
    "\n",
    "result_dict_network = dw.network_sim.run_network_fdb(input_mat, ablation_mask=ablation_mask,\n",
    "                                            fdb_init = 1.48, t_delay = 0.54)\n",
    "\n",
    "result_dict_body = dw.body_sim.solve_bodymodel(result_dict_network = result_dict_network) \n",
    "\n",
    "x = result_dict_body['x']\n",
    "y = result_dict_body['y']"
   ]
  },
  {
   "cell_type": "code",
   "execution_count": null,
   "id": "2add2482",
   "metadata": {},
   "outputs": [],
   "source": [
    "# Harsh anterior touch (backward crawling via gnetle touch on its head)\n",
    "# Triggered by injecting impulse stimulus into FLP, ADE, BDU, SDQR sensory neurons\n",
    "\n",
    "input_mat = np.load('saved_data/touch_response_stimulus_profiles/input_mat_harsh_ant_touch.npy')\n",
    "\n",
    "result_dict_network = dw.network_sim.run_network_fdb(input_mat, ablation_mask=ablation_mask,\n",
    "                                            fdb_init = 1.2, t_delay = 0.54)\n",
    "\n",
    "result_dict_body = dw.body_sim.solve_bodymodel(result_dict_network = result_dict_network) \n",
    "\n",
    "x = result_dict_body['x']\n",
    "y = result_dict_body['y']"
   ]
  },
  {
   "cell_type": "markdown",
   "id": "1275b95a",
   "metadata": {},
   "source": [
    "## Produce Animation\n",
    "### Pick x, y from one of the cells above\n",
    "### Adjust the function paramteres as necessary"
   ]
  },
  {
   "cell_type": "code",
   "execution_count": null,
   "id": "2d46aef5",
   "metadata": {},
   "outputs": [],
   "source": [
    "dw.body_sim.produce_animation(x = x, y = y, \n",
    "                              filename = 'your video title.mp4', \n",
    "                              xmin = -100, xmax = 100, ymin = -100, ymax = 100,\n",
    "                              figsize_x = 10,\n",
    "                              figsize_y = 10)"
   ]
  }
 ],
 "metadata": {
  "kernelspec": {
   "display_name": "Python 3 (ipykernel)",
   "language": "python",
   "name": "python3"
  },
  "language_info": {
   "codemirror_mode": {
    "name": "ipython",
    "version": 3
   },
   "file_extension": ".py",
   "mimetype": "text/x-python",
   "name": "python",
   "nbconvert_exporter": "python",
   "pygments_lexer": "ipython3",
   "version": "3.9.12"
  }
 },
 "nbformat": 4,
 "nbformat_minor": 5
}
