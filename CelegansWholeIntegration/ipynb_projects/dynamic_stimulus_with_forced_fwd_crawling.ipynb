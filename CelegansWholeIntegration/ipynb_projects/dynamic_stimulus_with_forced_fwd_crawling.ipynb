{
 "cells": [
  {
   "cell_type": "code",
   "execution_count": null,
   "id": "5ccaf488",
   "metadata": {},
   "outputs": [],
   "source": [
    "%matplotlib inline\n",
    "\n",
    "import os\n",
    "import numpy as np\n",
    "import matplotlib.pyplot as plt\n",
    "\n",
    "import matplotlib.animation as animation\n",
    "import scipy.io as sio\n",
    "import seaborn as sns\n",
    "\n",
    "default_dir = os.path.dirname(os.getcwd())\n",
    "os.chdir(default_dir)\n",
    "\n",
    "import dynworm as dw"
   ]
  },
  {
   "cell_type": "markdown",
   "id": "d68e995d",
   "metadata": {},
   "source": [
    "## Simulation prep"
   ]
  },
  {
   "cell_type": "code",
   "execution_count": null,
   "id": "17410f04",
   "metadata": {},
   "outputs": [],
   "source": [
    "dw.network_sim.initialize_params_neural()\n",
    "dw.network_sim.initialize_connectivity()\n",
    "dw.body_sim.initialize_params_body()"
   ]
  },
  {
   "cell_type": "code",
   "execution_count": null,
   "id": "d9cf2049",
   "metadata": {},
   "outputs": [],
   "source": [
    "# Seaborn for prettier plots\n",
    "\n",
    "import seaborn as sns\n",
    "\n",
    "sns.set(style = \"white\", font_scale = 2)"
   ]
  },
  {
   "cell_type": "code",
   "execution_count": null,
   "id": "38845e90",
   "metadata": {},
   "outputs": [],
   "source": [
    "ablation_mask = np.ones(dw.neural_params.pA_unit_baseline['N'], dtype = 'bool')"
   ]
  },
  {
   "cell_type": "code",
   "execution_count": null,
   "id": "8a2d2d60",
   "metadata": {},
   "outputs": [],
   "source": [
    "# Load the waveforce voltages for all the neurons that force the worm to move forward at all times during the simulation\n",
    "# p_voltage_fwd has the shape of (timepoints, 279)\n",
    "\n",
    "os.chdir(dw.sys_paths.voltagemat_dir)\n",
    "\n",
    "p_voltage_fwd = np.load('V_mat_amp10_30s_fwd3.npy')[:2300] # 2300 = 23s of simulation time, feel free to change this value\n",
    "\n",
    "os.chdir(dw.sys_paths.voltagemat_dir)"
   ]
  },
  {
   "cell_type": "code",
   "execution_count": null,
   "id": "32295c40",
   "metadata": {},
   "outputs": [],
   "source": [
    "# Construct the input_mat that defines 3 pulses of equally spaced stimulus into both RIVL and RIVR\n",
    "# Each pulse should have the amplitude of ~2100pA\n",
    "# You can experiment with how long each pulse should last/space between pulses\n",
    "# Make sure input_mat has the same # of timepoints as p_voltage_fwd\n",
    "\n",
    "input_mat = "
   ]
  },
  {
   "cell_type": "markdown",
   "id": "f278b817",
   "metadata": {},
   "source": [
    "## Simulate nervous system and body"
   ]
  },
  {
   "cell_type": "code",
   "execution_count": null,
   "id": "e29f19bf",
   "metadata": {
    "scrolled": false
   },
   "outputs": [],
   "source": [
    "# Simulate the worm with specified input_mat subject to forced forward crawling \n",
    "\n",
    "result_dict = dw.network_sim.run_network_externalV(input_mat = input_mat, \n",
    "                                                   ext_voltage_mat = p_voltage_fwd, \n",
    "                                                   ablation_mask = ablation_mask)\n",
    "        \n",
    "result_dict_body = dw.body_sim.solve_bodymodel(result_dict)\n",
    "\n",
    "x = result_dict_body['x']\n",
    "y = result_dict_body['y']"
   ]
  },
  {
   "cell_type": "markdown",
   "id": "4ab4098b",
   "metadata": {},
   "source": [
    "## Animation"
   ]
  },
  {
   "cell_type": "code",
   "execution_count": null,
   "id": "6a183dce",
   "metadata": {},
   "outputs": [],
   "source": [
    "# Animate the simulated behavior output"
   ]
  }
 ],
 "metadata": {
  "kernelspec": {
   "display_name": "Python 3 (ipykernel)",
   "language": "python",
   "name": "python3"
  },
  "language_info": {
   "codemirror_mode": {
    "name": "ipython",
    "version": 3
   },
   "file_extension": ".py",
   "mimetype": "text/x-python",
   "name": "python",
   "nbconvert_exporter": "python",
   "pygments_lexer": "ipython3",
   "version": "3.9.12"
  }
 },
 "nbformat": 4,
 "nbformat_minor": 5
}
