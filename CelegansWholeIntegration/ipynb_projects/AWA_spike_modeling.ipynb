{
 "cells": [
  {
   "cell_type": "code",
   "execution_count": null,
   "metadata": {},
   "outputs": [],
   "source": [
    "# This line allows you to display matplotlib plots within the Jupyter Notebook\n",
    "%matplotlib inline\n",
    "\n",
    "# Import External packages \n",
    "\n",
    "import os\n",
    "import numpy as np\n",
    "import matplotlib.pyplot as plt\n",
    "\n",
    "# Configure the working directory (Important: This should be set to home directory of 'dynworm' folder)\n",
    "\n",
    "default_dir = os.path.dirname(os.getcwd())\n",
    "os.chdir(default_dir)\n",
    "\n",
    "# Import Main module\n",
    "\n",
    "import dynworm as dw"
   ]
  },
  {
   "cell_type": "code",
   "execution_count": null,
   "metadata": {},
   "outputs": [],
   "source": [
    "# Setting AVL to True enable its voltage gated channels to support action potential as described by Qiang et al 2019\n",
    "# https://www.cell.com/cell/fulltext/S0092-8674(18)31034-1?_returnURL=https%3A%2F%2Flinkinghub.elsevier.com%2Fretrieve%2Fpii%2FS0092867418310341%3Fshowall%3Dtrue\n",
    "\n",
    "additional_params = {\"AWA\": True,\n",
    "                     \"AVL\": False}"
   ]
  },
  {
   "cell_type": "code",
   "execution_count": null,
   "metadata": {},
   "outputs": [],
   "source": [
    "# Provide additional_params to initialize_params_neural() to enable spiking AVL neuron\n",
    "\n",
    "dw.network_sim.initialize_params_neural(additional_params = additional_params)\n",
    "dw.network_sim.initialize_connectivity()"
   ]
  },
  {
   "cell_type": "code",
   "execution_count": null,
   "metadata": {},
   "outputs": [],
   "source": [
    "print(dw.utils.neuron_names_2_inds(['AWAL']))"
   ]
  },
  {
   "cell_type": "code",
   "execution_count": null,
   "metadata": {},
   "outputs": [],
   "source": [
    "input_vec = np.zeros(dw.network_sim.params_obj_neural['N'])\n",
    "ablation_mask = np.ones(dw.network_sim.params_obj_neural['N'], dtype = 'bool')"
   ]
  },
  {
   "cell_type": "code",
   "execution_count": null,
   "metadata": {},
   "outputs": [],
   "source": [
    "# Ablating AWAL disconnets it from the rest of the network so there is no synaptic or gap currents from other neurons\n",
    "# This emulates the experimental setting Qiang used to measure the spikes of AWA with real C. elegans\n",
    "# If including spiking AWA neuron as part of the network dynamics skip this step\n",
    "\n",
    "ablation_mask[73] = False"
   ]
  },
  {
   "cell_type": "code",
   "execution_count": null,
   "metadata": {},
   "outputs": [],
   "source": [
    "# Seaborn plot setting\n",
    "\n",
    "import seaborn as sns\n",
    "\n",
    "sns.set(style = 'ticks', font_scale = 2.1)"
   ]
  },
  {
   "cell_type": "code",
   "execution_count": null,
   "metadata": {
    "scrolled": false
   },
   "outputs": [],
   "source": [
    "# A for loop where each loop simulates the voltage activity of AVL when given input current ranging from -2pA to 12pA\n",
    "# Reproduces Figure 5B from Qiang's Cell paper above\n",
    "\n",
    "import time\n",
    "\n",
    "AWA_external_input_current_list = np.arange(-1, 13) * 2\n",
    "awa_voltage_sols = []\n",
    "\n",
    "for stim in AWA_external_input_current_list:\n",
    "    \n",
    "    print(stim)\n",
    "    \n",
    "    start = time.time()\n",
    "\n",
    "    input_mat = np.zeros((701, 279))\n",
    "    input_mat[100:600, 73] = stim\n",
    "    \n",
    "    result_dict_network = dw.network_sim.run_network_dyninput(input_mat = input_mat, ablation_mask = ablation_mask)\n",
    "    v_sol = result_dict_network['raw_v_solution']\n",
    "    \n",
    "    awa_voltage_sols.append(v_sol[:, 73])\n",
    "    \n",
    "    plt.figure(figsize = (10, 7))\n",
    "\n",
    "    plt.plot(v_sol[:, 73], linewidth = 2.5, color = 'red')\n",
    "    sns.despine()\n",
    "    plt.show()\n",
    "    \n",
    "    end = time.time()\n",
    "    print(end - start)"
   ]
  },
  {
   "cell_type": "code",
   "execution_count": null,
   "metadata": {},
   "outputs": [],
   "source": [
    "plt.figure(figsize = (10, 7))\n",
    "\n",
    "for k in range(len(awa_voltage_sols)):\n",
    "\n",
    "    plt.plot(np.linspace(0, 7, 701), awa_voltage_sols[k], linewidth = 2.5, color = 'black')\n",
    "    plt.xlabel('Time(s)')\n",
    "    plt.ylabel('Membrane Voltage(mV)')\n",
    "    plt.ylim(-90, 0)\n",
    "    sns.despine()"
   ]
  }
 ],
 "metadata": {
  "kernelspec": {
   "display_name": "Python 3 (ipykernel)",
   "language": "python",
   "name": "python3"
  },
  "language_info": {
   "codemirror_mode": {
    "name": "ipython",
    "version": 3
   },
   "file_extension": ".py",
   "mimetype": "text/x-python",
   "name": "python",
   "nbconvert_exporter": "python",
   "pygments_lexer": "ipython3",
   "version": "3.9.12"
  }
 },
 "nbformat": 4,
 "nbformat_minor": 2
}
