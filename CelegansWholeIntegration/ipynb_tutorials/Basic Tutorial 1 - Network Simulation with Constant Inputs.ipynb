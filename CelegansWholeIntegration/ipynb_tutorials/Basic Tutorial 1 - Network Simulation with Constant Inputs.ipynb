{
 "cells": [
  {
   "cell_type": "markdown",
   "metadata": {},
   "source": [
    "## This tutorial presents how to simulate the full network with constant input currents into arbitrary set of neurons."
   ]
  },
  {
   "cell_type": "markdown",
   "metadata": {},
   "source": [
    "## Step 1: Import necessary packages and modules"
   ]
  },
  {
   "cell_type": "code",
   "execution_count": null,
   "metadata": {},
   "outputs": [],
   "source": [
    "# This line allows you to display matplotlib plots within the Jupyter Notebook\n",
    "%matplotlib inline\n",
    "\n",
    "# Import External packages \n",
    "\n",
    "import os\n",
    "import numpy as np\n",
    "import matplotlib.pyplot as plt\n",
    "\n",
    "# Configure the working directory (Important: This should be set to home directory of 'dynworm' folder)\n",
    "\n",
    "default_dir = os.path.dirname(os.getcwd())\n",
    "os.chdir(default_dir)\n",
    "\n",
    "# Import Main module\n",
    "\n",
    "import dynworm as dw"
   ]
  },
  {
   "cell_type": "markdown",
   "metadata": {},
   "source": [
    "## Step 2: Initialize neural parameters and connectivity matrices\n",
    "### Before running any simulation, neural parameters (i.e. physiological constants. See neural_params.py for detail) and network connectivity matrices (gap, synaptic and directionalities of neurons) must be initialized \n",
    "### This process is carried out by dynworm.network_sim.initialize_params_neural() and dynworm.network_sim.initialize_connectivity(). Note that neural parameters must be initialized ahead of connectivity matrices\n",
    "### Once initialized, both neural and connectivity parameters live in an object dynworm.network_sim.params_obj_neural\n",
    "### params_obj_neural is a global variable for dynworm.network_sim module and can be modified by users (see tutorial 3)\n",
    "### When not given any arguments (as shown below), the initialization functions can be used to reset the parameter space to default values "
   ]
  },
  {
   "cell_type": "code",
   "execution_count": null,
   "metadata": {},
   "outputs": [],
   "source": [
    "dw.network_sim.initialize_params_neural()\n",
    "dw.network_sim.initialize_connectivity()"
   ]
  },
  {
   "cell_type": "markdown",
   "metadata": {},
   "source": [
    "## Step 3: Define constant input and ablation vectors\n",
    "### Constant input should be a vector of shape (279, ) (defined as input_vec below) where each index defines the constant current for that neuron throughout the simulation \n",
    "### Ablation vector is a boolean vector of shape (279, ) (defined as ablation_mask below) where True = not ablated, False = ablated.\n",
    "### For an intact connectome, ablation vector should be vector of all ones"
   ]
  },
  {
   "cell_type": "code",
   "execution_count": null,
   "metadata": {},
   "outputs": [],
   "source": [
    "input_vec = np.zeros(dw.network_sim.params_obj_neural['N'])\n",
    "ablation_mask = np.ones(dw.network_sim.params_obj_neural['N'], dtype = 'bool')"
   ]
  },
  {
   "cell_type": "markdown",
   "metadata": {},
   "source": [
    "## Step 4: Configure constant stimuli into neurons\n",
    "### Enter the normalized stimuli amplitude to the neurons to be stimulated (This may be updated in future to enter explicit nA instead)\n",
    "### The normalized stimuli amplitude has following conversion: 0 - 1 (normalized) <--> 0 - 10nA (nano-ampere)\n",
    "### e.g. 0.2 (normalized stimuli) is equivalent to 2nA\n",
    "### Use neurons_list in dynworm.neurons_idx module to quickly navigate the indices of the neurons of your interest"
   ]
  },
  {
   "cell_type": "code",
   "execution_count": null,
   "metadata": {},
   "outputs": [],
   "source": [
    "# neurons_idx module has dictionary 'neurons_list' where you can easily reference the information about neurons of interest\n",
    "# degree: total number of synaptic inputs \n",
    "# group: group name of neuron\n",
    "\n",
    "neurons_list = dw.neurons_idx.neurons_list\n",
    "neurons_list[276]"
   ]
  },
  {
   "cell_type": "markdown",
   "metadata": {},
   "source": [
    "### In this example, we are injecting 2nA constant current into PLMR (276th index) and PLML (278th index)"
   ]
  },
  {
   "cell_type": "code",
   "execution_count": null,
   "metadata": {},
   "outputs": [],
   "source": [
    "input_vec[276] = 2000 #pA\n",
    "input_vec[278] = 2000"
   ]
  },
  {
   "cell_type": "markdown",
   "metadata": {},
   "source": [
    "## Step 5: Run the simulation\n",
    "### network_sim.run_network_constinput simulates the network when given a constant input vector and ablation vector, alongside with following arguments\n",
    "### t_start: start time of the simulation in seconds\n",
    "### t_final: end time of the simulation in seconds \n",
    "### t_delta: time resolution of simulation in seconds. This is not to be confused with integration step, which is determined internally\n",
    "### input_vec: the input vector with configured constant input currents\n",
    "### ablation_mask: the ablation vector which define any neurons to be ablated\n",
    "### In this example, we set t_start = 0s, t_final = 15s and t_delta = 0.01s"
   ]
  },
  {
   "cell_type": "code",
   "execution_count": null,
   "metadata": {},
   "outputs": [],
   "source": [
    "result_dict = dw.network_sim.run_network_constinput(t_duration=15, \n",
    "                                                    input_vec = input_vec, ablation_mask = ablation_mask)"
   ]
  },
  {
   "cell_type": "markdown",
   "metadata": {},
   "source": [
    "## Step 6: Extract the result\n",
    "### run_network_constinput outputs a dictionary object with following keys\n",
    "### 'v_solution' :  Normalized membrane voltage activities of all neurons in respect to their resting potential (dimension: timepoints x 279)\n",
    "### 'steps' : number of solution points between t_start and t_final\n",
    "### 't' : time vector of the simulation \n",
    "### 'trajectory_mat':  Pre-normalized membrane voltage activities of all neurons (dimension: timepoints x 279)\n",
    "### 'v_threshold': The resting potentials of all neurons given the constant input profile "
   ]
  },
  {
   "cell_type": "code",
   "execution_count": null,
   "metadata": {},
   "outputs": [],
   "source": [
    "result_dict.keys()"
   ]
  },
  {
   "cell_type": "markdown",
   "metadata": {},
   "source": [
    "### In this example, we will take a look at the 'v_solution' \n",
    "### We take transpose of 'v_solution' to change its shape to spatial axis of neurons x temporal axis "
   ]
  },
  {
   "cell_type": "code",
   "execution_count": null,
   "metadata": {},
   "outputs": [],
   "source": [
    "v_sol = result_dict['v_solution'].T"
   ]
  },
  {
   "cell_type": "markdown",
   "metadata": {},
   "source": [
    "### One can use matplotlib.pyplot.pcolor to visualize the activities of all neurons "
   ]
  },
  {
   "cell_type": "code",
   "execution_count": null,
   "metadata": {},
   "outputs": [],
   "source": [
    "fig = plt.figure(figsize=(15, 8))\n",
    "plt.pcolor(v_sol[:, 100:], cmap='bwr', vmin = -10, vmax = 10)\n",
    "plt.colorbar()"
   ]
  },
  {
   "cell_type": "markdown",
   "metadata": {},
   "source": [
    "### Or only the motorneuronal activities"
   ]
  },
  {
   "cell_type": "code",
   "execution_count": null,
   "metadata": {},
   "outputs": [],
   "source": [
    "fig = plt.figure(figsize=(15, 8))\n",
    "plt.pcolor(v_sol[dw.neurons_idx.motor_group, 100:], cmap='bwr', vmin = -3, vmax = 3)\n",
    "plt.ylim(len(dw.neurons_idx.motor_group), 0)\n",
    "plt.colorbar()"
   ]
  },
  {
   "cell_type": "markdown",
   "metadata": {},
   "source": [
    "### Here we show the activities of Ventral Type B, D and Dorsal Type B, D neurons"
   ]
  },
  {
   "cell_type": "code",
   "execution_count": null,
   "metadata": {},
   "outputs": [],
   "source": [
    "fig = plt.figure(figsize=(12, 8))\n",
    "plt.subplot(4,1,1)\n",
    "plt.pcolor(v_sol[dw.neurons_idx.VB_ind, 100:600], cmap='bwr')\n",
    "plt.ylim(len(dw.neurons_idx.VB_ind), 0)\n",
    "plt.colorbar()\n",
    "\n",
    "fig = plt.figure(figsize=(12, 8))\n",
    "plt.subplot(4,1,2)\n",
    "plt.pcolor(v_sol[dw.neurons_idx.VD_ind, 100:600], cmap='bwr')\n",
    "plt.ylim(len(dw.neurons_idx.VD_ind), 0)\n",
    "plt.colorbar()\n",
    "\n",
    "fig = plt.figure(figsize=(12, 8))\n",
    "plt.subplot(4,1,3)\n",
    "plt.pcolor(v_sol[dw.neurons_idx.DB_ind, 100:600], cmap='bwr')\n",
    "plt.ylim(len(dw.neurons_idx.DB_ind), 0)\n",
    "plt.colorbar()\n",
    "\n",
    "fig = plt.figure(figsize=(12, 8))\n",
    "plt.subplot(4,1,4)\n",
    "plt.pcolor(v_sol[dw.neurons_idx.DD_ind, 100:600], cmap='bwr')\n",
    "plt.ylim(len(dw.neurons_idx.DD_ind), 0)\n",
    "plt.colorbar()"
   ]
  }
 ],
 "metadata": {
  "kernelspec": {
   "display_name": "Python 3",
   "language": "python",
   "name": "python3"
  },
  "language_info": {
   "codemirror_mode": {
    "name": "ipython",
    "version": 3
   },
   "file_extension": ".py",
   "mimetype": "text/x-python",
   "name": "python",
   "nbconvert_exporter": "python",
   "pygments_lexer": "ipython3",
   "version": "3.8.11"
  }
 },
 "nbformat": 4,
 "nbformat_minor": 2
}
