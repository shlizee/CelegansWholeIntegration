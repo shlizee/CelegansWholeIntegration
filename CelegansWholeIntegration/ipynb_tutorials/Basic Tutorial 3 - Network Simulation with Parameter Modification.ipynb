{
 "cells": [
  {
   "cell_type": "markdown",
   "metadata": {},
   "source": [
    "### In this tutorial, we show how to modify neural parameters prior to network simulation"
   ]
  },
  {
   "cell_type": "markdown",
   "metadata": {},
   "source": [
    "## Step 1: Import necessary packages and modules"
   ]
  },
  {
   "cell_type": "code",
   "execution_count": null,
   "metadata": {},
   "outputs": [],
   "source": [
    "# This line allows you to display matplotlib plots within the Jupyter Notebook\n",
    "%matplotlib inline\n",
    "\n",
    "# Import External packages \n",
    "\n",
    "import os\n",
    "import numpy as np\n",
    "import matplotlib.pyplot as plt\n",
    "\n",
    "# Configure the working directory (Important: This should be set to home directory of 'dynworm' folder)\n",
    "\n",
    "default_dir = os.path.dirname(os.getcwd())\n",
    "os.chdir(default_dir)\n",
    "\n",
    "# Import Main module\n",
    "\n",
    "import dynworm as dw"
   ]
  },
  {
   "cell_type": "markdown",
   "metadata": {},
   "source": [
    "## Step 2: Modify neural parameters \n",
    "\n",
    "### There are two ways you can modify network parameters: \n",
    "### 1) Modifying the physiological neural parameters\n",
    "### 2) Modifying the connectome"
   ]
  },
  {
   "cell_type": "markdown",
   "metadata": {},
   "source": [
    "## 2.1: Modifying the physiological constants \n",
    "\n",
    "### You can modify the physiological constants by providing your own custom dictionary of neural paramters\n",
    "### For the description of each parameter, see dynworm.neural_params.py\n",
    "### Custom dictionary should include all the parameters present in dw.neural_params.pA_unit_baseline\n",
    "### We use the following custom neural parameter dictionary for this tutorial which modifies cell capacitance (C) and and leakage potential (Ec) \n",
    "\n",
    "custom_neural_params = {\n",
    "\n",
    "    \"N\" : 279, \n",
    "    \"Gc\" : 0.1,\n",
    "    \"C\" : 0.01, (0.015 --> 0.01)\n",
    "    \"ggap\" : 1.0,\n",
    "    \"gsyn\" : 1.0,\n",
    "    \"Ec\" : -45.0, (-35 --> -45)\n",
    "    \"E_rev\": -48.0, \n",
    "    \"ar\" : 1.0/1.5,\n",
    "    \"ad\" : 5.0/1.5,\n",
    "    \"B\" : 0.125,\n",
    "    \"rate\" : 0.025,\n",
    "    \"offset\" : 0.15,\n",
    "    \"iext\" : 10.,\n",
    "    \"nonlinear_AWA\": False,\n",
    "    \"nonlinear_AVL\": False\n",
    "\n",
    "    }\n",
    "    \n",
    "### The custom dictionary is then provided to dynworm.network_sim.initialize_params_neural() "
   ]
  },
  {
   "cell_type": "markdown",
   "metadata": {},
   "source": [
    "## 2.2: Modifying the connectivity matrices\n",
    "\n",
    "### You can modify the connectivity matrices before initializing the connectomes by providing a following dictionary consisting of new connectomes to dynworm.network_sim.initialize_connectivity()\n",
    "\n",
    "modified_connectomes = \n",
    "            {\n",
    "\n",
    "            \"gap\": new gap connectome with dimension (279 * 279),\n",
    "            \"syn\": new synaptic connectome (279 * 279),\n",
    "            \"directionality\": new boolean matrix for inhibitory neurons (279, 279), \n",
    "            where 0 = excitatory, 1 = inhibitory, columns: from, rows: to\n",
    "\n",
    "            }\n",
    "            \n",
    "### Note that you can modify the connectivity matrices via \"ablating\" neurons as well through ablation_mask"
   ]
  },
  {
   "cell_type": "markdown",
   "metadata": {},
   "source": [
    "### In this tutorial, we will modify physiological paramters + ablate neurons on the base connectomes"
   ]
  },
  {
   "cell_type": "code",
   "execution_count": null,
   "metadata": {},
   "outputs": [],
   "source": [
    "# Defeine custom dictionary consisting of all the necessary physiological constants\n",
    "\n",
    "custom_neural_params = {\n",
    "\n",
    "    \"N\" : 279, \n",
    "    \"Gc\" : 0.1,\n",
    "    \"C\" : 0.01, \n",
    "    \"ggap\" : 1.0,\n",
    "    \"gsyn\" : 1.0,\n",
    "    \"Ec\" : -45.0, \n",
    "    \"E_rev\": -48.0, \n",
    "    \"ar\" : 1.0/1.5,\n",
    "    \"ad\" : 5.0/1.5,\n",
    "    \"B\" : 0.125,\n",
    "    \"rate\" : 0.025,\n",
    "    \"offset\" : 0.15,\n",
    "    \"iext\" : 10.,\n",
    "    \"nonlinear_AWA\": False,\n",
    "    \"nonlinear_AVL\": False\n",
    "\n",
    "    }"
   ]
  },
  {
   "cell_type": "markdown",
   "metadata": {},
   "source": [
    "### Initialize neural paramters and connectivity matrices"
   ]
  },
  {
   "cell_type": "code",
   "execution_count": null,
   "metadata": {},
   "outputs": [],
   "source": [
    "dw.network_sim.initialize_params_neural(custom_neural_params)\n",
    "dw.network_sim.initialize_connectivity()"
   ]
  },
  {
   "cell_type": "code",
   "execution_count": null,
   "metadata": {},
   "outputs": [],
   "source": [
    "# Use dw.utils.neuron_names_2_inds to find the indices of the neurons\n",
    "\n",
    "print(dw.utils.neuron_names_2_inds(['PVCL']), dw.utils.neuron_names_2_inds(['PVCR']))"
   ]
  },
  {
   "cell_type": "markdown",
   "metadata": {},
   "source": [
    "### Secondary modification of base connectomes - We ablate PVCL and PVCR, which are known as driver interneurons for forward crawling motion"
   ]
  },
  {
   "cell_type": "code",
   "execution_count": null,
   "metadata": {},
   "outputs": [],
   "source": [
    "ablation_mask = np.ones(dw.network_sim.params_obj_neural['N'], dtype = 'bool')\n",
    "ablation_mask[261] = False\n",
    "ablation_mask[267] = False"
   ]
  },
  {
   "cell_type": "markdown",
   "metadata": {},
   "source": [
    "## Step 3: Configure input stimuli into neurons\n",
    "### Enter the normalized stimuli amplitude to the neurons to be stimulated. \n",
    "### In this tutorial, we inject constant input into PLML and PLMR"
   ]
  },
  {
   "cell_type": "code",
   "execution_count": null,
   "metadata": {},
   "outputs": [],
   "source": [
    "input_vec = np.zeros(dw.network_sim.params_obj_neural['N'])"
   ]
  },
  {
   "cell_type": "code",
   "execution_count": null,
   "metadata": {},
   "outputs": [],
   "source": [
    "# In this example, we are injecting 2nA constant current into PLMR (276th index) and PLML (278th index)\n",
    "\n",
    "input_vec[276] = 2000\n",
    "input_vec[278] = 2000"
   ]
  },
  {
   "cell_type": "markdown",
   "metadata": {},
   "source": [
    "## Step 4: Run the simulation"
   ]
  },
  {
   "cell_type": "code",
   "execution_count": null,
   "metadata": {},
   "outputs": [],
   "source": [
    "result_dict = dw.network_sim.run_network_constinput(t_duration=15, input_vec=input_vec, \n",
    "                                          ablation_mask=ablation_mask)"
   ]
  },
  {
   "cell_type": "markdown",
   "metadata": {},
   "source": [
    "## Step 5: Extract the result"
   ]
  },
  {
   "cell_type": "code",
   "execution_count": null,
   "metadata": {},
   "outputs": [],
   "source": [
    "result_dict.keys()"
   ]
  },
  {
   "cell_type": "markdown",
   "metadata": {},
   "source": [
    "### In this example, we will take a look at the 'v_solution' \n",
    "### We take transpose to change the shape of the array to spatial neurons x temporal axis "
   ]
  },
  {
   "cell_type": "code",
   "execution_count": null,
   "metadata": {},
   "outputs": [],
   "source": [
    "v_sol = result_dict['v_solution'].T"
   ]
  },
  {
   "cell_type": "markdown",
   "metadata": {},
   "source": [
    "### One can use matplotlib.pyplot.pcolor to visualize the activities of all neurons \n",
    "### Surprisingly, we see that the network doesn't oscillate anymore when PVC are ablated"
   ]
  },
  {
   "cell_type": "code",
   "execution_count": null,
   "metadata": {},
   "outputs": [],
   "source": [
    "fig = plt.figure(figsize=(15, 8))\n",
    "plt.pcolor(v_sol[:, 100:], cmap='bwr', vmin = -20, vmax = 20)\n",
    "plt.colorbar()"
   ]
  },
  {
   "cell_type": "markdown",
   "metadata": {},
   "source": [
    "### Or only the motorneuronal activities"
   ]
  },
  {
   "cell_type": "code",
   "execution_count": null,
   "metadata": {},
   "outputs": [],
   "source": [
    "fig = plt.figure(figsize=(15, 8))\n",
    "plt.pcolor(v_sol[dw.neurons_idx.motor_group, 100:], cmap='bwr', vmin = -20, vmax = 20)\n",
    "plt.colorbar()"
   ]
  },
  {
   "cell_type": "markdown",
   "metadata": {},
   "source": [
    "### Here we show the activities of Ventral Type B, D and Dorsal Type B, D neurons"
   ]
  },
  {
   "cell_type": "code",
   "execution_count": null,
   "metadata": {},
   "outputs": [],
   "source": [
    "fig = plt.figure(figsize=(12, 8))\n",
    "plt.subplot(4,1,1)\n",
    "plt.pcolor(v_sol[dw.neurons_idx.VB_ind, 100:600], cmap='bwr')\n",
    "plt.ylim(len(dw.neurons_idx.VB_ind), 0)\n",
    "plt.colorbar()\n",
    "\n",
    "fig = plt.figure(figsize=(12, 8))\n",
    "plt.subplot(4,1,2)\n",
    "plt.pcolor(v_sol[dw.neurons_idx.VD_ind, 100:600], cmap='bwr')\n",
    "plt.ylim(len(dw.neurons_idx.VD_ind), 0)\n",
    "plt.colorbar()\n",
    "\n",
    "fig = plt.figure(figsize=(12, 8))\n",
    "plt.subplot(4,1,3)\n",
    "plt.pcolor(v_sol[dw.neurons_idx.DB_ind, 100:600], cmap='bwr')\n",
    "plt.ylim(len(dw.neurons_idx.DB_ind), 0)\n",
    "plt.colorbar()\n",
    "\n",
    "fig = plt.figure(figsize=(12, 8))\n",
    "plt.subplot(4,1,4)\n",
    "plt.pcolor(v_sol[dw.neurons_idx.DD_ind, 100:600], cmap='bwr')\n",
    "plt.ylim(len(dw.neurons_idx.DD_ind), 0)\n",
    "plt.colorbar()"
   ]
  }
 ],
 "metadata": {
  "kernelspec": {
   "display_name": "Python 3",
   "language": "python",
   "name": "python3"
  },
  "language_info": {
   "codemirror_mode": {
    "name": "ipython",
    "version": 3
   },
   "file_extension": ".py",
   "mimetype": "text/x-python",
   "name": "python",
   "nbconvert_exporter": "python",
   "pygments_lexer": "ipython3",
   "version": "3.8.11"
  }
 },
 "nbformat": 4,
 "nbformat_minor": 2
}
