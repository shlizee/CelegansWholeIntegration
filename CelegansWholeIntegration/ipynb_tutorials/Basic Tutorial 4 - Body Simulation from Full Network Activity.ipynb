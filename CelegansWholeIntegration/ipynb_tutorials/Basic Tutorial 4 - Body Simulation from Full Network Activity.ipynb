{
 "cells": [
  {
   "cell_type": "markdown",
   "metadata": {},
   "source": [
    "### This tutorial presents how to simulate the full network + body movement"
   ]
  },
  {
   "cell_type": "markdown",
   "metadata": {},
   "source": [
    "## Step 1: Import necessary packages and modules"
   ]
  },
  {
   "cell_type": "code",
   "execution_count": null,
   "metadata": {},
   "outputs": [],
   "source": [
    "%matplotlib inline\n",
    "\n",
    "# external packages \n",
    "\n",
    "import os\n",
    "import numpy as np\n",
    "import matplotlib.pyplot as plt\n",
    "import seaborn as sns\n",
    "\n",
    "import matplotlib.animation as animation\n",
    "import scipy.io as sio\n",
    "\n",
    "# move directory to parent directory of main\n",
    "\n",
    "default_dir = os.path.dirname(os.getcwd())\n",
    "os.chdir(default_dir)\n",
    "\n",
    "# internal modules \n",
    "\n",
    "import dynworm as dw"
   ]
  },
  {
   "cell_type": "markdown",
   "metadata": {},
   "source": [
    "## Step 2: Initialize neural parameters and connectivity\n",
    "### Here we use the default neural parameters and connectomes"
   ]
  },
  {
   "cell_type": "code",
   "execution_count": null,
   "metadata": {},
   "outputs": [],
   "source": [
    "dw.network_sim.initialize_params_neural()\n",
    "dw.network_sim.initialize_connectivity()"
   ]
  },
  {
   "cell_type": "markdown",
   "metadata": {},
   "source": [
    "## Step 3: Initialize body parameters\n",
    "### Body parameters must be initialized prior to simulating the body.\n",
    "### In this tutorial, we use the default body parameters"
   ]
  },
  {
   "cell_type": "code",
   "execution_count": null,
   "metadata": {},
   "outputs": [],
   "source": [
    "dw.body_sim.initialize_params_body()"
   ]
  },
  {
   "cell_type": "markdown",
   "metadata": {},
   "source": [
    "## Step 4: Initialize input_vec and ablation vector\n",
    "### We simulate the network with constant input stimuli into PLML and PLMR"
   ]
  },
  {
   "cell_type": "code",
   "execution_count": null,
   "metadata": {},
   "outputs": [],
   "source": [
    "input_vec = np.zeros(dw.network_sim.params_obj_neural['N'])\n",
    "ablation_mask = np.ones(dw.network_sim.params_obj_neural['N'], dtype = 'bool')"
   ]
  },
  {
   "cell_type": "code",
   "execution_count": null,
   "metadata": {},
   "outputs": [],
   "source": [
    "# Use dw.utils.neuron_names_2_inds to find the indices of the neurons\n",
    "\n",
    "print(dw.utils.neuron_names_2_inds(['PLML']), dw.utils.neuron_names_2_inds(['PLMR']))"
   ]
  },
  {
   "cell_type": "code",
   "execution_count": null,
   "metadata": {},
   "outputs": [],
   "source": [
    "# In this example, we are injecting 3.5nA constant current into PLMR (276th index) and PLML (278th index)\n",
    "\n",
    "input_vec[276] = 3500\n",
    "input_vec[278] = 3500"
   ]
  },
  {
   "cell_type": "markdown",
   "metadata": {},
   "source": [
    "## Step 5: Run the simulation"
   ]
  },
  {
   "cell_type": "code",
   "execution_count": null,
   "metadata": {},
   "outputs": [],
   "source": [
    "result_dict_network = dw.network_sim.run_network_constinput(t_duration=10, \n",
    "                                                            input_vec = input_vec, ablation_mask=ablation_mask)"
   ]
  },
  {
   "cell_type": "markdown",
   "metadata": {},
   "source": [
    "## Step 6: Simulate the body  \n",
    "### Simply provide result_dict_network to  dynworm.body_sim.solve_bodymodel function. \n",
    "### The function also accepts following parameters:\n",
    "### xinit: Initial x_coordinate of the worm's head. Set to 0 by default.\n",
    "### yinit: Initial y_coordinate of the worm's head. Set to 0 by default.\n",
    "### orientation_angle: \n",
    "### i) positive orientation angle --> counterclockwise rotation\n",
    "### ii) negative orientation angle --> clockwise rotation. Set to 0 by default."
   ]
  },
  {
   "cell_type": "code",
   "execution_count": null,
   "metadata": {
    "scrolled": false
   },
   "outputs": [],
   "source": [
    "import time\n",
    "\n",
    "start = time.time()\n",
    "\n",
    "result_dict_body = dw.body_sim.solve_bodymodel(result_dict_network = result_dict_network, use_julia_engine=True) \n",
    "\n",
    "end = time.time()\n",
    "\n",
    "print(end-start)"
   ]
  },
  {
   "cell_type": "markdown",
   "metadata": {},
   "source": [
    "### The function outputs result_dict_body, a dictionary object containing \n",
    "### \"t\": time vector for simulation\n",
    "### \"x\": x coordinates for 193 body segments of shape (timepoints x body segments). \n",
    "### \"y\": y coordinates for 193 body segments of shape (timepoints x body segments).\n",
    "### \"phi\": dynamics of angles of 24 rod segments relative to horizontal plane\n",
    "### The segments are ordered from anterior to posterior direction "
   ]
  },
  {
   "cell_type": "code",
   "execution_count": null,
   "metadata": {},
   "outputs": [],
   "source": [
    "result_dict_body['x'].shape"
   ]
  },
  {
   "cell_type": "code",
   "execution_count": null,
   "metadata": {},
   "outputs": [],
   "source": [
    "x = result_dict_body['x']\n",
    "y = result_dict_body['y']"
   ]
  },
  {
   "cell_type": "markdown",
   "metadata": {},
   "source": [
    "## Step 7: Produce body movement animation\n",
    "### Use dynworm.body_sim.produce_animation to animate the simulated body movements\n",
    "### Note that you need to install 'ffmpeg' package to compile the video. You can simply use \"conda install\" command in Anaconda prompt to include in Anaconda environment. \n",
    "\n",
    "### The function has following base parameters\n",
    "### x: x coordinates array with shape (timesteps, 193)\n",
    "### y: y coordinates array with shape (timesteps, 193)\n",
    "### filename: filename to be saved\n",
    "### xmin: leftmost x coordinate for the video\n",
    "### xmax: rightmost x coordinate for the video\n",
    "### ymin: downmost y coordinate for the video\n",
    "### ymax: upmost y coordinate for the video\n",
    "### figsize_x: width of video\n",
    "### figsize_y: height of video "
   ]
  },
  {
   "cell_type": "code",
   "execution_count": null,
   "metadata": {
    "scrolled": false
   },
   "outputs": [],
   "source": [
    "# For producing body animation, ensure that filename is in string format\n",
    "\n",
    "dw.body_sim.produce_animation(x=x, y=y, filename='plm_3.5nA', \n",
    "                              xmin=-50, xmax=50, ymin=-50, ymax=50, \n",
    "                              figsize_x=25, figsize_y=25, axis = 'off', fps = 100)"
   ]
  }
 ],
 "metadata": {
  "kernelspec": {
   "display_name": "Python 3 (ipykernel)",
   "language": "python",
   "name": "python3"
  },
  "language_info": {
   "codemirror_mode": {
    "name": "ipython",
    "version": 3
   },
   "file_extension": ".py",
   "mimetype": "text/x-python",
   "name": "python",
   "nbconvert_exporter": "python",
   "pygments_lexer": "ipython3",
   "version": "3.9.12"
  }
 },
 "nbformat": 4,
 "nbformat_minor": 2
}
