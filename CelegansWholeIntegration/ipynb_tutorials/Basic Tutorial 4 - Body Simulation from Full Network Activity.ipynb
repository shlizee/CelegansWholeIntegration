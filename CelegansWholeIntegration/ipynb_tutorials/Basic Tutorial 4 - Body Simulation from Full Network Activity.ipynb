{
 "cells": [
  {
   "cell_type": "markdown",
   "metadata": {},
   "source": [
    "## This tutorial presents how to simulate the full network + body movement\n",
    "## Simulating body movement from network activity is managed by separate module called dynworm.body_sim\n",
    "## The module takes neuronal voltage activities of full network from dynworm.network_sim, convert them into muscle activities, and muscle activities to movements of worm using the Viscoelastic Rod Model"
   ]
  },
  {
   "cell_type": "markdown",
   "metadata": {},
   "source": [
    "## Step 1: Import necessary packages and modules"
   ]
  },
  {
   "cell_type": "code",
   "execution_count": null,
   "metadata": {},
   "outputs": [],
   "source": [
    "%matplotlib inline\n",
    "\n",
    "# external packages \n",
    "\n",
    "import os\n",
    "import numpy as np\n",
    "import matplotlib.pyplot as plt\n",
    "\n",
    "import matplotlib.animation as animation\n",
    "import scipy.io as sio\n",
    "\n",
    "# move directory to parent directory of main\n",
    "\n",
    "default_dir = os.path.dirname(os.getcwd())\n",
    "os.chdir(default_dir)\n",
    "\n",
    "# internal modules \n",
    "\n",
    "import dynworm as dw"
   ]
  },
  {
   "cell_type": "markdown",
   "metadata": {},
   "source": [
    "## Step 2: Initialize neural parameters and connectivity\n",
    "### Here we use the default neural parameters and connectomes"
   ]
  },
  {
   "cell_type": "code",
   "execution_count": null,
   "metadata": {},
   "outputs": [],
   "source": [
    "dw.network_sim.initialize_params_neural()\n",
    "dw.network_sim.initialize_connectivity()"
   ]
  },
  {
   "cell_type": "markdown",
   "metadata": {},
   "source": [
    "## Step 3: Initialize body parameters\n",
    "### Body parameters must be initialized prior to simulating the body.\n",
    "### Once initialized, the parameters live in body_sim.params_obj_body, which is a global variable for dynworm.body_sim module  \n",
    "### Similar to network physiological and connectivity matrices in dynworm.network_sim, body paramters can be modified by providing your own dictionary of body_parameters \n",
    "### In this tutorial, we use the default body parameters"
   ]
  },
  {
   "cell_type": "code",
   "execution_count": null,
   "metadata": {},
   "outputs": [],
   "source": [
    "dw.body_sim.initialize_params_body()"
   ]
  },
  {
   "cell_type": "markdown",
   "metadata": {},
   "source": [
    "## Step 4: Initialize input_vec and ablation vector\n",
    "### We simulate the network with constant input stimuli into PLML and PLMR"
   ]
  },
  {
   "cell_type": "code",
   "execution_count": null,
   "metadata": {},
   "outputs": [],
   "source": [
    "input_vec = np.zeros(dw.network_sim.params_obj_neural['N'])\n",
    "ablation_mask = np.ones(dw.network_sim.params_obj_neural['N'], dtype = 'bool')"
   ]
  },
  {
   "cell_type": "code",
   "execution_count": null,
   "metadata": {},
   "outputs": [],
   "source": [
    "# neurons_idx module has dictionary 'neurons_list' where you can easily reference the information about neurons of interest\n",
    "\n",
    "neurons_list = dw.neurons_idx.neurons_list\n",
    "neurons_list[276]"
   ]
  },
  {
   "cell_type": "code",
   "execution_count": null,
   "metadata": {},
   "outputs": [],
   "source": [
    "# In this example, we are injecting 3.5nA constant current into PLMR (276th index) and PLML (278th index)\n",
    "\n",
    "input_vec[276] = 0.35\n",
    "input_vec[278] = 0.35"
   ]
  },
  {
   "cell_type": "markdown",
   "metadata": {},
   "source": [
    "## Step 5: Run the simulation\n",
    "### run_network_constinput in ce_network module simulates the network when given with input_mask vector\n",
    "### t_start: start time of the simulation\n",
    "### t_final: end time of the simulation\n",
    "### t_delta: time resolution of simulation. This is not to be confused with integration step, which is determined internally\n",
    "### input_vec: the input_vec vector with configured constant inputs\n",
    "### ablation_mask: the ablation vector which define any neurons to be ablated"
   ]
  },
  {
   "cell_type": "code",
   "execution_count": null,
   "metadata": {},
   "outputs": [],
   "source": [
    "result_dict_network = dw.network_sim.run_network_constinput(t_duration=10, \n",
    "                                                            input_vec = input_vec, ablation_mask=ablation_mask)"
   ]
  },
  {
   "cell_type": "markdown",
   "metadata": {},
   "source": [
    "## Step 6: Simulate the body  \n",
    "### Simplify provide result_dict from network_sim.run_network... functions to  dynworm.body_sim.solve_bodymodel function. The function also let you to choose the initial body orientation of the worm:\n",
    "### xinit: Initial x_coordinate of the worm's head. Set to 0 by default.\n",
    "### yinit: Initial y_coordinate of the worm's head. Set to 0 by default.\n",
    "### orientation_angle: positive orientation angle --> counterclockwise rotation, negative orientation angle --> clockwise rotation. Set to 0 by default."
   ]
  },
  {
   "cell_type": "code",
   "execution_count": null,
   "metadata": {
    "scrolled": false
   },
   "outputs": [],
   "source": [
    "import time\n",
    "\n",
    "start = time.time()\n",
    "\n",
    "result_dict_body = dw.body_sim.solve_bodymodel_ivp(result_dict_network = result_dict_network) \n",
    "\n",
    "end = time.time()\n",
    "\n",
    "print(end - start)"
   ]
  },
  {
   "cell_type": "markdown",
   "metadata": {},
   "source": [
    "### The function outputs result_dict_body, a dictionary object containing \n",
    "### \"t\": time vector for simulation\n",
    "### \"x\": x coordinates for 93 body segments of shape (timepoints x body segments). The segments are ordered from anterior to posterior direction \n",
    "### \"y\": y coordinates for 93 body segments of shape (timepoints x body segments).\n",
    "### \"phi\": dynamics of angles of 24 rod segments relative to horizontal plane"
   ]
  },
  {
   "cell_type": "code",
   "execution_count": null,
   "metadata": {},
   "outputs": [],
   "source": [
    "result_dict_body['x'].shape"
   ]
  },
  {
   "cell_type": "code",
   "execution_count": null,
   "metadata": {},
   "outputs": [],
   "source": [
    "x = result_dict_body['x']\n",
    "y = result_dict_body['y']"
   ]
  },
  {
   "cell_type": "code",
   "execution_count": null,
   "metadata": {},
   "outputs": [],
   "source": [
    "x_head = x[:, 0]\n",
    "y_head = y[:, 0]\n",
    "\n",
    "with sns.axes_style(\"white\"):\n",
    "\n",
    "    fig = plt.figure(figsize=(23,23))\n",
    "\n",
    "    plt.imshow(swarm_image_bargmann, zorder=0, extent=[-200, 200, -200, 200])\n",
    "\n",
    "    plt.plot(x_head, y_head, linewidth = 5, color = 'black')\n",
    "    plt.xlim(-200, 200)\n",
    "    plt.ylim(-200, 200)\n",
    "    plt.show()"
   ]
  },
  {
   "cell_type": "markdown",
   "metadata": {},
   "source": [
    "## Step 7: Produce body movement animation\n",
    "### dynworm.body_sim module comes with an animation rederer \"produce_animation\" which produces a movie of simulated body\n",
    "### Note that you need to install 'ffmpeg' package to compile the video. You can simply use \"conda install\" command in Anaconda prompt to include in Anaconda environment. \n",
    "\n",
    "### The function has 13 inputs\n",
    "### x: x coordinates array with shape (timesteps, 93)\n",
    "### y: y coordinates array with shape (timesteps, 93)\n",
    "### filename: filename to be saved\n",
    "### xmin: leftmost x coordinate for the video\n",
    "### xmax: rightmost x coordinate for the video\n",
    "### ymin: downmost y coordinate for the video\n",
    "### ymax: upmost y coordinate for the video\n",
    "### figsize_x: width of video\n",
    "### figsize_y: height of video \n",
    "### color: color of the worm (default set to black)\n",
    "### facecolor: background color (default set to white)\n",
    "### axis: switch for drawing x-y axis (default set to on)\n",
    "### timer: switch for timer that shows simulation time (default set to off)"
   ]
  },
  {
   "cell_type": "code",
   "execution_count": null,
   "metadata": {
    "scrolled": false
   },
   "outputs": [],
   "source": [
    "# For producing body animation, ensure that filename is in string format\n",
    "\n",
    "dw.body_sim.produce_animation(x=x, y=y, filename='plm_3.5nA_grid_off', \n",
    "                              xmin=-120, xmax=80, ymin=-100, ymax=100, \n",
    "                              figsize_x=25, figsize_y=25, axis = 'on')"
   ]
  },
  {
   "cell_type": "code",
   "execution_count": null,
   "metadata": {},
   "outputs": [],
   "source": []
  }
 ],
 "metadata": {
  "kernelspec": {
   "display_name": "Python 3",
   "language": "python",
   "name": "python3"
  },
  "language_info": {
   "codemirror_mode": {
    "name": "ipython",
    "version": 3
   },
   "file_extension": ".py",
   "mimetype": "text/x-python",
   "name": "python",
   "nbconvert_exporter": "python",
   "pygments_lexer": "ipython3",
   "version": "3.8.11"
  }
 },
 "nbformat": 4,
 "nbformat_minor": 2
}
