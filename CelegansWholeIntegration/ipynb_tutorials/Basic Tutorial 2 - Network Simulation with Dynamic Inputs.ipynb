{
 "cells": [
  {
   "cell_type": "markdown",
   "metadata": {},
   "source": [
    "### This tutorial presents how to simulate the full network with time dependent dynamic input currents"
   ]
  },
  {
   "cell_type": "markdown",
   "metadata": {},
   "source": [
    "## Step 1: Import necessary packages and modules"
   ]
  },
  {
   "cell_type": "code",
   "execution_count": null,
   "metadata": {},
   "outputs": [],
   "source": [
    "# This line allows you to display matplotlib plots within the Jupyter Notebook\n",
    "%matplotlib inline\n",
    "\n",
    "# Import External packages \n",
    "\n",
    "import os\n",
    "import numpy as np\n",
    "import matplotlib.pyplot as plt\n",
    "\n",
    "# Configure the working directory (Important: This should be set to home directory of 'dynworm' folder)\n",
    "\n",
    "default_dir = os.path.dirname(os.getcwd())\n",
    "os.chdir(default_dir)\n",
    "\n",
    "# Import Main module\n",
    "\n",
    "import dynworm as dw"
   ]
  },
  {
   "cell_type": "markdown",
   "metadata": {},
   "source": [
    "## Step 1: Initialize neural parameters and connectivity"
   ]
  },
  {
   "cell_type": "code",
   "execution_count": null,
   "metadata": {},
   "outputs": [],
   "source": [
    "dw.network_sim.initialize_params_neural()\n",
    "dw.network_sim.initialize_connectivity()"
   ]
  },
  {
   "cell_type": "markdown",
   "metadata": {},
   "source": [
    "## Step 2: Define dynamic input stimuli\n",
    "### The dynamic stimuli should be in the form of numpy.array of shape (timesteps x 279)\n",
    "### Each column defines the time dependent inputs into i-th neuron\n",
    "### In this tutorial, we will use in-built functions from dynworm.utils for sinusoidal and noisy inputs\n",
    "### You can also construct your own dynamic stimuli with custom functions"
   ]
  },
  {
   "cell_type": "code",
   "execution_count": null,
   "metadata": {},
   "outputs": [],
   "source": [
    "# Use dw.utils.neuron_names_2_inds to find the indices of the neurons\n",
    "\n",
    "print(dw.utils.neuron_names_2_inds(['PLML']), dw.utils.neuron_names_2_inds(['PLMR']))"
   ]
  },
  {
   "cell_type": "markdown",
   "metadata": {},
   "source": [
    "### dw_utils.construct_dyn_inputmat takes following parameters\n",
    "### t0: Starting time point\n",
    "### tf: Ending time point \n",
    "### input_type: 'sinusoidal' or 'noisy'\n",
    "### neuron_indices: List of neurons' indices to be stimulated\n",
    "### normalized_amps:\n",
    "### i) with input_type = 'sinusoidal', list of amplitudes of sine waves. \n",
    "### ii) with input_type = 'noisy', list of base input amplitudes without noises\n",
    "### freqs: xclusive to input_type = 'sinusoidal'. Determines frequencies of sine wave inputs\n",
    "### noise_amplitude: exclusive to input_type = 'noisy'. Determines the noise amplitudes of noisy inputs"
   ]
  },
  {
   "cell_type": "code",
   "execution_count": null,
   "metadata": {},
   "outputs": [],
   "source": [
    "input_mat_sinusoidal = dw.utils.construct_dyn_inputmat(t0=0, tf=21, input_type='sinusoidal', \\\n",
    "                                                       neuron_indices=[276, 278], \n",
    "                                                       normalized_amps=[2000, 3000], \\\n",
    "                                                       freqs=[3, 4])"
   ]
  },
  {
   "cell_type": "code",
   "execution_count": null,
   "metadata": {},
   "outputs": [],
   "source": [
    "input_mat_noisy = dw.utils.construct_dyn_inputmat(t0=0, tf=21, input_type='noisy', \\\n",
    "                                                  neuron_indices=[276, 278], \n",
    "                                                  normalized_amps=[2000, 3000], \n",
    "                                                  noise_amplitudes=[50, 50])"
   ]
  },
  {
   "cell_type": "markdown",
   "metadata": {},
   "source": [
    "### The figure below shows the different dynamic input into PLMR"
   ]
  },
  {
   "cell_type": "code",
   "execution_count": null,
   "metadata": {},
   "outputs": [],
   "source": [
    "fig = plt.figure(figsize=(9, 12))\n",
    "\n",
    "plt.subplot(211)\n",
    "plt.title('Sinusoidal input')\n",
    "plt.plot(input_mat_sinusoidal[:, 276], color = 'black')\n",
    "\n",
    "plt.subplot(212)\n",
    "plt.title('Noisy input')\n",
    "plt.plot(input_mat_noisy[:, 276], color = 'black')"
   ]
  },
  {
   "cell_type": "markdown",
   "metadata": {},
   "source": [
    "## Step 3: Configure ablation mask array"
   ]
  },
  {
   "cell_type": "code",
   "execution_count": null,
   "metadata": {},
   "outputs": [],
   "source": [
    "ablation_mask = np.ones(dw.network_sim.params_obj_neural['N'], dtype = 'bool')"
   ]
  },
  {
   "cell_type": "markdown",
   "metadata": {},
   "source": [
    "## Step 4: Run the simulation\n",
    "### run_network_dyninput simulates takes following parameterss\n",
    "### input_mat: the input_mat array with configured time dependent inputs (timepoints x 279)\n",
    "### ablation_mask: the ablation vector which define any neurons to be ablated"
   ]
  },
  {
   "cell_type": "code",
   "execution_count": null,
   "metadata": {},
   "outputs": [],
   "source": [
    "result_dict_sinusoidal = dw.network_sim.run_network_dyninput(input_mat=input_mat_sinusoidal, \n",
    "                                                  ablation_mask = ablation_mask)"
   ]
  },
  {
   "cell_type": "code",
   "execution_count": null,
   "metadata": {},
   "outputs": [],
   "source": [
    "result_dict_noisy = dw.network_sim.run_network_dyninput(input_mat=input_mat_noisy, \n",
    "                                                  ablation_mask = ablation_mask)"
   ]
  },
  {
   "cell_type": "markdown",
   "metadata": {},
   "source": [
    "## Step 5: Extract the result\n",
    "### run_network_dyninput outputs an identical dictionary object as run_network_constinput from tutorial 1"
   ]
  },
  {
   "cell_type": "code",
   "execution_count": null,
   "metadata": {},
   "outputs": [],
   "source": [
    "result_dict_sinusoidal.keys()"
   ]
  },
  {
   "cell_type": "markdown",
   "metadata": {},
   "source": [
    "### In this example, we will take a look at the 'v_solution' \n",
    "### We take transpose to change the shape to spatial neurons x temporal axis "
   ]
  },
  {
   "cell_type": "code",
   "execution_count": null,
   "metadata": {},
   "outputs": [],
   "source": [
    "v_sol = result_dict_sinusoidal['v_solution'].T"
   ]
  },
  {
   "cell_type": "markdown",
   "metadata": {},
   "source": [
    "### One can use matplotlib.pyplot.pcolor to visualize the activities of all neurons "
   ]
  },
  {
   "cell_type": "code",
   "execution_count": null,
   "metadata": {},
   "outputs": [],
   "source": [
    "fig = plt.figure(figsize=(15, 8))\n",
    "plt.pcolor(v_sol[:, 100:], cmap='bwr', vmin = -20, vmax = 20)\n",
    "plt.colorbar()"
   ]
  },
  {
   "cell_type": "markdown",
   "metadata": {},
   "source": [
    "### Or only the motorneuronal activities"
   ]
  },
  {
   "cell_type": "code",
   "execution_count": null,
   "metadata": {},
   "outputs": [],
   "source": [
    "fig = plt.figure(figsize=(15, 8))\n",
    "plt.pcolor(v_sol[dw.neurons_idx.motor_group, 100:-100], cmap='bwr')\n",
    "plt.colorbar()"
   ]
  },
  {
   "cell_type": "markdown",
   "metadata": {},
   "source": [
    "### Here we show the activities of Ventral Type B, D and Dorsal Type B, D neurons"
   ]
  },
  {
   "cell_type": "code",
   "execution_count": null,
   "metadata": {},
   "outputs": [],
   "source": [
    "fig = plt.figure(figsize=(12, 8))\n",
    "plt.subplot(4,1,1)\n",
    "plt.pcolor(v_sol[dw.neurons_idx.VB_ind, 100:600], cmap='bwr')\n",
    "plt.ylim(len(dw.neurons_idx.VB_ind), 0)\n",
    "plt.colorbar()\n",
    "\n",
    "fig = plt.figure(figsize=(12, 8))\n",
    "plt.subplot(4,1,2)\n",
    "plt.pcolor(v_sol[dw.neurons_idx.VD_ind, 100:600], cmap='bwr')\n",
    "plt.ylim(len(dw.neurons_idx.VD_ind), 0)\n",
    "plt.colorbar()\n",
    "\n",
    "fig = plt.figure(figsize=(12, 8))\n",
    "plt.subplot(4,1,3)\n",
    "plt.pcolor(v_sol[dw.neurons_idx.DB_ind, 100:600], cmap='bwr')\n",
    "plt.ylim(len(dw.neurons_idx.DB_ind), 0)\n",
    "plt.colorbar()\n",
    "\n",
    "fig = plt.figure(figsize=(12, 8))\n",
    "plt.subplot(4,1,4)\n",
    "plt.pcolor(v_sol[dw.neurons_idx.DD_ind, 100:600], cmap='bwr')\n",
    "plt.ylim(len(dw.neurons_idx.DD_ind), 0)\n",
    "plt.colorbar()"
   ]
  },
  {
   "cell_type": "code",
   "execution_count": null,
   "metadata": {},
   "outputs": [],
   "source": []
  }
 ],
 "metadata": {
  "kernelspec": {
   "display_name": "Python 3",
   "language": "python",
   "name": "python3"
  },
  "language_info": {
   "codemirror_mode": {
    "name": "ipython",
    "version": 3
   },
   "file_extension": ".py",
   "mimetype": "text/x-python",
   "name": "python",
   "nbconvert_exporter": "python",
   "pygments_lexer": "ipython3",
   "version": "3.8.11"
  }
 },
 "nbformat": 4,
 "nbformat_minor": 2
}
