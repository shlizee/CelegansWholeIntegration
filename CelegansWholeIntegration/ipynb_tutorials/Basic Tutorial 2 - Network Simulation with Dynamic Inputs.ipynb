{
 "cells": [
  {
   "cell_type": "markdown",
   "metadata": {},
   "source": [
    "## This tutorial presents how to simulate the full network with time dependent dynamic input currents into arbitrary set of neurons. If you haven't completed the tutorial 1, it is recommended to do so."
   ]
  },
  {
   "cell_type": "markdown",
   "metadata": {},
   "source": [
    "## Step 1: Import necessary packages and modules"
   ]
  },
  {
   "cell_type": "code",
   "execution_count": null,
   "metadata": {},
   "outputs": [],
   "source": [
    "# This line allows you to display matplotlib plots within the Jupyter Notebook\n",
    "%matplotlib inline\n",
    "\n",
    "# Import External packages \n",
    "\n",
    "import os\n",
    "import numpy as np\n",
    "import matplotlib.pyplot as plt\n",
    "\n",
    "# Configure the working directory (Important: This should be set to home directory of 'dynworm' folder)\n",
    "\n",
    "default_dir = os.path.dirname(os.getcwd())\n",
    "os.chdir(default_dir)\n",
    "\n",
    "# Import Main module\n",
    "\n",
    "import dynworm as dw"
   ]
  },
  {
   "cell_type": "markdown",
   "metadata": {},
   "source": [
    "## Step 1: Initialize neural parameters and connectivity"
   ]
  },
  {
   "cell_type": "code",
   "execution_count": null,
   "metadata": {},
   "outputs": [],
   "source": [
    "dw.network_sim.initialize_params_neural()\n",
    "dw.network_sim.initialize_connectivity()"
   ]
  },
  {
   "cell_type": "markdown",
   "metadata": {},
   "source": [
    "## Step 2: Define dynamic input stimuli\n",
    "### The dynamic stimuli should be in the form of numpy.array of shape (timesteps x network size), which define the time dependent inputs into all neurons\n",
    "### In this tutorial, we will use in-built functions from dynworm.utils which can set up sinusoidal, noisy and step inputs\n",
    "### You can also construct your own dynamic stimuli with custom functions\n",
    "### Identical to constant input, dynamic input is defined with normalized stimuli with following conversion: 0 - 1 (normalized) <--> 0 - 10nA (nano-ampere)\n",
    "### IMPORTANT: As of now, all dynamic stimuli matrices should have row numbers (i.e. timesteps) 1 second longer than the actual ending time of your simulation. e.g. if you want to simulate 20s with the time resolution of 0.01s, your dynamic stimuli matrix should have dimension (2100, 279) with extra 100 input data points past 2000 (20s)\n",
    "### This is to avoid the out of range interpolation error of input during network integration\n",
    "### Also, try to avoid a time interval with zero input (i.e. no input to any neuron) to the network. This often results in an interpolation error as well (This issue will be resolved in next alpha version) "
   ]
  },
  {
   "cell_type": "code",
   "execution_count": null,
   "metadata": {},
   "outputs": [],
   "source": [
    "# neurons_idx module has dictionary 'neurons_list' where you can easily reference the information about neurons of interest\n",
    "# degree: total number of synaptic inputs \n",
    "# group: group name of neuron\n",
    "\n",
    "neurons_list = dw.neurons_idx.neurons_list\n",
    "neurons_list[276]"
   ]
  },
  {
   "cell_type": "markdown",
   "metadata": {},
   "source": [
    "### In this tutorial we define each of sinusoidal and noisy input into PLM neurons using the ce_utils.construct_dyn_inputmat function\n",
    "\n",
    "### The function accepts:\n",
    "### t0 - Starting time point\n",
    "### tf - Ending time point \n",
    "### dt - Time resolution\n",
    "### input_type - 'sinusoidal' or 'noisy'\n",
    "### neuron_indices - List of neurons' indices to be stimulated\n",
    "### normalized_amps - with input_type = 'sinusoidal', list of amplitudes of sine waves. With input_type = 'noisy', list of base input amplitudes without noises\n",
    "### freqs - Exclusive to input_type = 'sinusoidal'. Determines frequencies of sine wave inputs\n",
    "### noise_amplitude - Exclusive to input_type = 'noisy'. Determines the noise amplitudes of noisy inputs\n",
    "### Note that normalized_amps, freqs and noise_amplitude should follow the same order of neurons as defined in neuron_indices"
   ]
  },
  {
   "cell_type": "code",
   "execution_count": null,
   "metadata": {},
   "outputs": [],
   "source": [
    "input_mat_sinusoidal = dw.utils.construct_dyn_inputmat(t0=0, tf=21, input_type='sinusoidal', \\\n",
    "                                                       neuron_indices=[276, 278], normalized_amps=[0.2, 0.3], \\\n",
    "                                                       freqs=[3, 4])"
   ]
  },
  {
   "cell_type": "code",
   "execution_count": null,
   "metadata": {},
   "outputs": [],
   "source": [
    "input_mat_noisy = dw.utils.construct_dyn_inputmat(t0=0, tf=21, input_type='noisy', \\\n",
    "                                                  neuron_indices=[276, 278], normalized_amps=[0.2, 0.3], \n",
    "                                                  noise_amplitudes=[0.05, 0.05])"
   ]
  },
  {
   "cell_type": "markdown",
   "metadata": {},
   "source": [
    "### The figure below shows the different dynamic input into PLMR"
   ]
  },
  {
   "cell_type": "code",
   "execution_count": null,
   "metadata": {},
   "outputs": [],
   "source": [
    "fig = plt.figure(figsize=(9, 12))\n",
    "\n",
    "plt.subplot(211)\n",
    "plt.title('Sinusoidal input')\n",
    "plt.plot(input_mat_sinusoidal[:, 276], color = 'black')\n",
    "\n",
    "plt.subplot(212)\n",
    "plt.title('Noisy input')\n",
    "plt.plot(input_mat_noisy[:, 276], color = 'black')"
   ]
  },
  {
   "cell_type": "markdown",
   "metadata": {},
   "source": [
    "## Step 3: Configure ablation mask array\n",
    "### Ablation mask is initially all set to True (i.e. all neurons are present in the network)"
   ]
  },
  {
   "cell_type": "code",
   "execution_count": null,
   "metadata": {},
   "outputs": [],
   "source": [
    "ablation_mask = np.ones(dw.network_sim.params_obj_neural['N'], dtype = 'bool')"
   ]
  },
  {
   "cell_type": "markdown",
   "metadata": {},
   "source": [
    "## Step 4: Run the simulation\n",
    "### run_network_dyninput in ce_network module simulates the network when given with input_mat array\n",
    "### t_delta: time resolution of simulation. This is not to be confused with integration step, which is determined internally\n",
    "### input_mat: the input_mat array with configured time dependent inputs of dimension (timepoints x 279)\n",
    "### ablation_mask: the ablation vector which define any neurons to be ablated"
   ]
  },
  {
   "cell_type": "code",
   "execution_count": null,
   "metadata": {},
   "outputs": [],
   "source": [
    "result_dict_sinusoidal = dw.network_sim.run_network_dyninput(input_mat=input_mat_sinusoidal, \n",
    "                                                  ablation_mask = ablation_mask)"
   ]
  },
  {
   "cell_type": "code",
   "execution_count": null,
   "metadata": {},
   "outputs": [],
   "source": [
    "result_dict_noisy = dw.network_sim.run_network_dyninput(input_mat=input_mat_noisy, \n",
    "                                                  ablation_mask = ablation_mask)"
   ]
  },
  {
   "cell_type": "markdown",
   "metadata": {},
   "source": [
    "## Step 5: Extract the result\n",
    "### run_network_constinput outputs a dictionary object with following keys\n",
    "### 'v_solution' : The membrane voltage activities of all neurons in respect to their resting potential (dimension: timepoints x 279)\n",
    "### 'steps' : number of solution points between t_start and t_final\n",
    "### 't' : time vector of the simulation \n",
    "### 'trajectory_mat': The membrane voltage activities of all neurons prior being subtracted by resting potential (dimension: timepoints x 279)\n",
    "### 'v_threshold': The resting potentials of all neurons given the constant input profile "
   ]
  },
  {
   "cell_type": "code",
   "execution_count": null,
   "metadata": {},
   "outputs": [],
   "source": [
    "result_dict_sinusoidal.keys()"
   ]
  },
  {
   "cell_type": "markdown",
   "metadata": {},
   "source": [
    "### In this example, we will take a look at the 'v_solution' \n",
    "### We take transpose to change the shape to spatial neurons x temporal axis "
   ]
  },
  {
   "cell_type": "code",
   "execution_count": null,
   "metadata": {},
   "outputs": [],
   "source": [
    "v_sol = result_dict_sinusoidal['v_solution'].T"
   ]
  },
  {
   "cell_type": "markdown",
   "metadata": {},
   "source": [
    "### One can use matplotlib.pyplot.pcolor to visualize the activities of all neurons "
   ]
  },
  {
   "cell_type": "code",
   "execution_count": null,
   "metadata": {},
   "outputs": [],
   "source": [
    "fig = plt.figure(figsize=(15, 8))\n",
    "plt.pcolor(v_sol[:, 100:], cmap='bwr', vmin = -20, vmax = 20)\n",
    "plt.colorbar()"
   ]
  },
  {
   "cell_type": "markdown",
   "metadata": {},
   "source": [
    "### Or only the motorneuronal activities"
   ]
  },
  {
   "cell_type": "code",
   "execution_count": null,
   "metadata": {},
   "outputs": [],
   "source": [
    "fig = plt.figure(figsize=(15, 8))\n",
    "plt.pcolor(v_sol[dw.neurons_idx.motor_group, 100:-100], cmap='bwr')\n",
    "plt.colorbar()"
   ]
  },
  {
   "cell_type": "markdown",
   "metadata": {},
   "source": [
    "### Here we show the activities of Ventral Type B, D and Dorsal Type B, D neurons"
   ]
  },
  {
   "cell_type": "code",
   "execution_count": null,
   "metadata": {},
   "outputs": [],
   "source": [
    "fig = plt.figure(figsize=(12, 8))\n",
    "plt.subplot(4,1,1)\n",
    "plt.pcolor(v_sol[dw.neurons_idx.VB_ind, 100:600], cmap='bwr')\n",
    "plt.ylim(len(dw.neurons_idx.VB_ind), 0)\n",
    "plt.colorbar()\n",
    "\n",
    "fig = plt.figure(figsize=(12, 8))\n",
    "plt.subplot(4,1,2)\n",
    "plt.pcolor(v_sol[dw.neurons_idx.VD_ind, 100:600], cmap='bwr')\n",
    "plt.ylim(len(dw.neurons_idx.VD_ind), 0)\n",
    "plt.colorbar()\n",
    "\n",
    "fig = plt.figure(figsize=(12, 8))\n",
    "plt.subplot(4,1,3)\n",
    "plt.pcolor(v_sol[dw.neurons_idx.DB_ind, 100:600], cmap='bwr')\n",
    "plt.ylim(len(dw.neurons_idx.DB_ind), 0)\n",
    "plt.colorbar()\n",
    "\n",
    "fig = plt.figure(figsize=(12, 8))\n",
    "plt.subplot(4,1,4)\n",
    "plt.pcolor(v_sol[dw.neurons_idx.DD_ind, 100:600], cmap='bwr')\n",
    "plt.ylim(len(dw.neurons_idx.DD_ind), 0)\n",
    "plt.colorbar()"
   ]
  },
  {
   "cell_type": "markdown",
   "metadata": {},
   "source": [
    "## Additionally, ce_plotting module provides useful plotting functions such as low dimensional projection"
   ]
  },
  {
   "cell_type": "code",
   "execution_count": null,
   "metadata": {},
   "outputs": [],
   "source": [
    "dw.plotting.plot_DominantModes(result_dict = result_dict_sinusoidal, sub_neurons = dw.neurons_idx.motor_group)"
   ]
  },
  {
   "cell_type": "code",
   "execution_count": null,
   "metadata": {},
   "outputs": [],
   "source": []
  }
 ],
 "metadata": {
  "kernelspec": {
   "display_name": "Python 3",
   "language": "python",
   "name": "python3"
  },
  "language_info": {
   "codemirror_mode": {
    "name": "ipython",
    "version": 3
   },
   "file_extension": ".py",
   "mimetype": "text/x-python",
   "name": "python",
   "nbconvert_exporter": "python",
   "pygments_lexer": "ipython3",
   "version": "3.8.8"
  }
 },
 "nbformat": 4,
 "nbformat_minor": 2
}
